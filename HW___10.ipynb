{
  "nbformat": 4,
  "nbformat_minor": 0,
  "metadata": {
    "colab": {
      "provenance": []
    },
    "kernelspec": {
      "name": "python3",
      "display_name": "Python 3"
    },
    "language_info": {
      "name": "python"
    }
  },
  "cells": [
    {
      "cell_type": "markdown",
      "source": [
        "# 1\n",
        "Провести дисперсионный анализ для определения того, есть ли различия среднего роста среди взрослых футболистов, хоккеистов и штангистов.\n",
        "Даны значения роста в трех группах случайно выбранных спортсменов:\n",
        "\n",
        "Футболисты: 173, 175, 180, 178, 177, 185, 183, 182.\n",
        "\n",
        "Хоккеисты: 177, 179, 180, 188, 177, 172, 171, 184, 180.\n",
        "\n",
        "Штангисты: 172, 173, 169, 177, 166, 180, 178, 177, 172, 166, 170."
      ],
      "metadata": {
        "id": "7Ci-JspfK-UC"
      }
    },
    {
      "cell_type": "code",
      "execution_count": 1,
      "metadata": {
        "colab": {
          "base_uri": "https://localhost:8080/"
        },
        "id": "iA1twuFqKv5R",
        "outputId": "efb186ff-b50a-4d14-ff61-64d96bfe65da"
      },
      "outputs": [
        {
          "output_type": "stream",
          "name": "stdout",
          "text": [
            "Различие в среднем росте спортсменов статистически значимо\n"
          ]
        }
      ],
      "source": [
        "import scipy.stats as stats\n",
        "\n",
        "football = [173, 175, 180, 178, 177, 185, 183, 182]\n",
        "hockey = [177, 179, 180, 188, 177, 172, 171, 184, 180]\n",
        "weightlifting = [172, 173, 169, 177, 166, 180, 178, 177, 172, 166, 170]\n",
        "\n",
        "f_stat, p_value = stats.f_oneway(football, hockey, weightlifting)\n",
        "\n",
        "if p_value < 0.05:\n",
        "    print(\"Различие в среднем росте спортсменов статистически значимо\")\n",
        "else:\n",
        "    print(\"Нет статистически значимого различия в среднем росте спортсменов\")\n"
      ]
    }
  ]
}